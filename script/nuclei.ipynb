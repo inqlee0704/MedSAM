{
 "cells": [
  {
   "cell_type": "code",
   "execution_count": 1,
   "metadata": {},
   "outputs": [],
   "source": [
    "from pathlib import Path\n",
    "img_dir = Path('D:\\\\Datas\\\\competition\\\\cvpr2024\\\\75_nuclei-segmentation\\\\imgs')\n",
    "gt_dir = Path('D:\\\\Datas\\\\competition\\\\cvpr2024\\\\75_nuclei-segmentation\\\\gts')\n",
    "dst_dir = Path('D:\\\\Datas\\\\competition\\\\cvpr2024\\\\nuclei')\n",
    "\n",
    "new_img_dir = dst_dir/'imgs'\n",
    "new_gt_dir = dst_dir/'gts'\n",
    "new_img_dir.mkdir(exist_ok=True, parents=True)\n",
    "new_gt_dir.mkdir(exist_ok=True, parents=True)"
   ]
  },
  {
   "cell_type": "code",
   "execution_count": 2,
   "metadata": {},
   "outputs": [
    {
     "name": "stdout",
     "output_type": "stream",
     "text": [
      "0\n"
     ]
    }
   ],
   "source": [
    "import shutil\n",
    "gt_list = list(gt_dir.glob('*'))\n",
    "count = 0\n",
    "new_img_path_list = []\n",
    "for gt_path in gt_list:\n",
    "    try:\n",
    "        gt_id = gt_path.stem[:-len(gt_path.suffix)]\n",
    "        img_path = list(img_dir.glob(f'{gt_id}*'))[0]\n",
    "        new_img_path = new_img_dir/f'nuclei_{gt_id}.png'\n",
    "        new_gt_path = new_gt_dir/f'nuclei_{gt_id}{gt_path.suffix}'\n",
    "        new_img_path_list.append(new_img_path.stem)\n",
    "        assert new_img_path.stem == new_gt_path.stem, (new_img_path.stem, new_gt_path.stem)\n",
    "        # shutil.copy(img_path, new_img_path)\n",
    "        # shutil.copy(gt_path, new_gt_path)\n",
    "    except Exception as e:\n",
    "        print(gt_path.name)\n",
    "        print(e)\n",
    "        count += 1\n",
    "        pass\n",
    "        break\n",
    "print(count)\n"
   ]
  },
  {
   "cell_type": "code",
   "execution_count": 3,
   "metadata": {},
   "outputs": [
    {
     "data": {
      "text/plain": [
       "5426"
      ]
     },
     "execution_count": 3,
     "metadata": {},
     "output_type": "execute_result"
    }
   ],
   "source": [
    "len(gt_list)"
   ]
  },
  {
   "cell_type": "code",
   "execution_count": 41,
   "metadata": {},
   "outputs": [
    {
     "data": {
      "text/plain": [
       "True"
      ]
     },
     "execution_count": 41,
     "metadata": {},
     "output_type": "execute_result"
    }
   ],
   "source": [
    "len(new_img_path_list) == len(set(new_img_path_list))"
   ]
  }
 ],
 "metadata": {
  "kernelspec": {
   "display_name": "medsam",
   "language": "python",
   "name": "python3"
  },
  "language_info": {
   "codemirror_mode": {
    "name": "ipython",
    "version": 3
   },
   "file_extension": ".py",
   "mimetype": "text/x-python",
   "name": "python",
   "nbconvert_exporter": "python",
   "pygments_lexer": "ipython3",
   "version": "3.10.14"
  }
 },
 "nbformat": 4,
 "nbformat_minor": 2
}
