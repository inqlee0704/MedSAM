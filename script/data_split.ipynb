{
 "cells": [
  {
   "cell_type": "code",
   "execution_count": null,
   "metadata": {},
   "outputs": [],
   "source": []
  },
  {
   "cell_type": "code",
   "execution_count": 15,
   "metadata": {},
   "outputs": [],
   "source": [
    "from pathlib import Path\n",
    "\n",
    "# from dataset.encoded_dataset import _modality_list as modality_list\n",
    "modality_list = ['nuclei']\n",
    "gt_dir = Path('D:\\\\Datas\\\\competition\\\\cvpr2024\\\\nuclei\\\\gts')\n",
    "# img_list = train_img_path.glob('*.png')"
   ]
  },
  {
   "cell_type": "code",
   "execution_count": 16,
   "metadata": {},
   "outputs": [],
   "source": [
    "ct_list = []\n",
    "modality_data_list = {m: [] for m in modality_list}\n",
    "for gt_path in gt_dir.glob('*'):\n",
    "    # if gt_path.name.find('CT') == 0:\n",
    "    modality=gt_path.name.split('_')[0]\n",
    "    modality_data_list[modality].append(gt_path)\n",
    "    \n"
   ]
  },
  {
   "cell_type": "code",
   "execution_count": 17,
   "metadata": {},
   "outputs": [
    {
     "data": {
      "text/plain": [
       "5426"
      ]
     },
     "execution_count": 17,
     "metadata": {},
     "output_type": "execute_result"
    }
   ],
   "source": [
    "len(modality_data_list[modality])"
   ]
  },
  {
   "cell_type": "code",
   "execution_count": 18,
   "metadata": {},
   "outputs": [],
   "source": [
    "import random\n",
    "def split_1p(modal, items):\n",
    "    split_info = {}\n",
    "    sub_modal_list = set([item.name.split('_',2)[1] for item in items])\n",
    "    sub_modal_list = {item:[] for item in sub_modal_list}\n",
    "    for item in items:\n",
    "        sub_modal = item.name.split('_', 2)[1]\n",
    "        sub_modal_list[sub_modal].append(item)\n",
    "\n",
    "    for sub_modal_name, items in sub_modal_list.items():\n",
    "        random.shuffle(items)\n",
    "        valid_num = int(len(items)/100)\n",
    "\n",
    "        valid_selected = list(map(lambda x: x.stem, items[:valid_num]))\n",
    "        train_selected = list(map(lambda x: x.stem, items[valid_num:]))\n",
    "\n",
    "        split_info[f'{modal}-{sub_modal_name}'] = {'train':train_selected, 'valid':valid_selected}\n",
    "\n",
    "    return split_info\n",
    "\n",
    "\n",
    "def split_10p(modal, items):\n",
    "    random.shuffle(items)\n",
    "    valid_num = int(len(items)/10)\n",
    "\n",
    "    valid_selected = list(map(lambda x: x.stem, items[:valid_num]))\n",
    "    train_selected = list(map(lambda x: x.stem, items[valid_num:]))\n",
    "\n",
    "    return {modal:{'train':train_selected, 'valid':valid_selected}}\n",
    "    pass"
   ]
  },
  {
   "cell_type": "code",
   "execution_count": 19,
   "metadata": {},
   "outputs": [],
   "source": [
    "split_info = {}\n",
    "for m, items in modality_data_list.items():\n",
    "    if len(items)>100000:\n",
    "        print(m)\n",
    "        t = split_1p(m, items)\n",
    "        split_info.update(t)\n",
    "    else:\n",
    "        split_info.update(split_10p(m, items))"
   ]
  },
  {
   "cell_type": "code",
   "execution_count": 20,
   "metadata": {},
   "outputs": [
    {
     "name": "stdout",
     "output_type": "stream",
     "text": [
      "nuclei                             train:      4884 valid:       542 | 11.10% sum:      5426\n",
      "Total                              train:      4884 valid:       542 | 11.10% sum:      5426\n"
     ]
    }
   ],
   "source": [
    "train_sum=0\n",
    "valid_sum=0\n",
    "train_list = []\n",
    "valid_list = []\n",
    "for k, v in split_info.items():\n",
    "    train_num = len(v['train'])\n",
    "    valid_num = len(v['valid'])\n",
    "    train_list += v['train']\n",
    "    valid_list += v['valid']\n",
    "    print(f\"{k:35s}train:{train_num:10d} valid:{valid_num:10d} | {valid_num/train_num*100:>2.2f}% sum:{train_num+valid_num:10d}\")\n",
    "    train_sum += len(v['train'])\n",
    "    valid_sum += len(v['valid'])\n",
    "\n",
    "print(f\"{'Total':35s}train:{train_sum:10d} valid:{valid_sum:10d} | {valid_sum/train_sum*100:>2.2f}% sum:{train_sum+valid_sum:10d}\")"
   ]
  },
  {
   "cell_type": "code",
   "execution_count": 21,
   "metadata": {},
   "outputs": [],
   "source": [
    "import json\n",
    "with open('train_list.csv', 'w') as f:\n",
    "    f.write('filename\\n')\n",
    "    f.writelines(list(map(lambda x:x+'\\n', train_list)))\n",
    "\n",
    "with open('valid_list.csv', 'w') as f:\n",
    "    f.write('filename\\n')\n",
    "    f.writelines(list(map(lambda x:x+'\\n', valid_list)))"
   ]
  },
  {
   "cell_type": "code",
   "execution_count": 22,
   "metadata": {},
   "outputs": [],
   "source": [
    "import numpy as np\n",
    "a = np.ones((512,512), dtype=np.uint8)"
   ]
  },
  {
   "cell_type": "code",
   "execution_count": 23,
   "metadata": {},
   "outputs": [
    {
     "name": "stderr",
     "output_type": "stream",
     "text": [
      "C:\\Users\\rnwhd\\AppData\\Local\\Temp\\ipykernel_19760\\2622463981.py:1: DeprecationWarning: NumPy will stop allowing conversion of out-of-bound Python integers to integer arrays.  The conversion of 400 to uint8 will fail in the future.\n",
      "For the old behavior, usually:\n",
      "    np.array(value).astype(dtype)\n",
      "will give the desired result (the cast overflows).\n",
      "  a[0,0]=400\n"
     ]
    }
   ],
   "source": [
    "a[0,0]=400"
   ]
  },
  {
   "cell_type": "code",
   "execution_count": 25,
   "metadata": {},
   "outputs": [
    {
     "data": {
      "text/plain": [
       "144"
      ]
     },
     "execution_count": 25,
     "metadata": {},
     "output_type": "execute_result"
    }
   ],
   "source": [
    "a[0,0]"
   ]
  },
  {
   "cell_type": "code",
   "execution_count": null,
   "metadata": {},
   "outputs": [],
   "source": []
  }
 ],
 "metadata": {
  "kernelspec": {
   "display_name": "medsam",
   "language": "python",
   "name": "python3"
  },
  "language_info": {
   "codemirror_mode": {
    "name": "ipython",
    "version": 3
   },
   "file_extension": ".py",
   "mimetype": "text/x-python",
   "name": "python",
   "nbconvert_exporter": "python",
   "pygments_lexer": "ipython3",
   "version": "3.10.14"
  }
 },
 "nbformat": 4,
 "nbformat_minor": 2
}
